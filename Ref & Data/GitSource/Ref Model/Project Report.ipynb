{
 "cells": [
  {
   "cell_type": "markdown",
   "id": "27358633",
   "metadata": {},
   "source": [
    "## Title\n",
    "- Boosting Algorithms for Phishing Websites Detection"
   ]
  },
  {
   "cell_type": "code",
   "execution_count": null,
   "id": "1c540f5b",
   "metadata": {},
   "outputs": [],
   "source": [
    "import pandas as pd\n",
    "import numpy as np\n",
    "from matplotlib import pyplot as plt\n",
    "\n",
    "# Loading phishing website dataset\n",
    "pwd = pd.read_csv('../Final Project/Data/phishing.csv')\n",
    "\n",
    "# Checking data shape\n",
    "row, col = pwd.shape\n",
    "print(f\"There are {row} rows and {col} columns\")\n",
    "\n",
    "# Data at a glance\n",
    "print(pwd.head(10))"
   ]
  },
  {
   "cell_type": "code",
   "execution_count": null,
   "id": "7f2b1215",
   "metadata": {},
   "outputs": [],
   "source": [
    "from sklearn.model_selection import train_test_split\n",
    "from sklearn.preprocessing import StandardScaler\n",
    "\n",
    "# Set x, y, and splitted data\n",
    "x = pwd.drop('class', axis=1)\n",
    "y = pwd['class']\n",
    "\n",
    "# Process the data\n",
    "sc_X = StandardScaler()\n",
    "x = sc_X.fit_transform(x)\n",
    "\n",
    "x_train, x_test, y_train, y_test = train_test_split(x, y, test_size=0.33, random_state=42)"
   ]
  },
  {
   "cell_type": "code",
   "execution_count": null,
   "id": "31e1ea36",
   "metadata": {},
   "outputs": [],
   "source": [
    "from sklearn.ensemble import AdaBoostClassifier\n",
    "\n",
    "# Train the model\n",
    "classifier = AdaBoostClassifier()\n",
    "classifier.fit(x_train,y_train)"
   ]
  },
  {
   "cell_type": "code",
   "execution_count": null,
   "id": "f16850bf",
   "metadata": {},
   "outputs": [],
   "source": [
    "# Make predictions\n",
    "y_pred = classifier.predict(x_test)"
   ]
  },
  {
   "cell_type": "code",
   "execution_count": null,
   "id": "6a75fbae",
   "metadata": {},
   "outputs": [],
   "source": [
    "from sklearn.metrics import confusion_matrix, accuracy_score, f1_score\n",
    "\n",
    "# Evaluate the performance on training data\n",
    "acc_train = accuracy_score(y_train, classifier.predict(x_train))\n",
    "f1_train = f1_score(y_train, classifier.predict(x_train), average= 'weighted')\n",
    "\n",
    "print(\"Training results\")\n",
    "print(\"Accuracy ->\", acc_train)\n",
    "print(\"F1 Score ->\", f1_train)"
   ]
  },
  {
   "cell_type": "code",
   "execution_count": null,
   "id": "337074e6",
   "metadata": {},
   "outputs": [],
   "source": [
    "# Evaluate the performance on testing data\n",
    "acc_test = accuracy_score(y_test, y_pred)\n",
    "f1_test = f1_score(y_test, y_pred, average= 'weighted')\n",
    "\n",
    "print(\"Test set results\")\n",
    "print(\"Accuracy ->\",acc_test)\n",
    "print(\"F1 Score ->\",f1_test)"
   ]
  },
  {
   "cell_type": "code",
   "execution_count": null,
   "id": "a1beb807",
   "metadata": {},
   "outputs": [],
   "source": [
    "# Used for pretty printing of confusion matrices\n",
    "\n",
    "import itertools\n",
    "\n",
    "def plot_confusion_matrix(cm, classes, normalize=False, title='Confusion matrix', cmap=plt.cm.Blues):\n",
    "    \n",
    "    # Plot the confusion matrix\n",
    "    # Normalization is applied\n",
    "    if normalize:\n",
    "        cm = cm.astype('float') / cm.sum(axis=1)[:, np.newaxis]\n",
    "        print(\"Normalization = True\")\n",
    "    else:\n",
    "        print('Normalization = False')\n",
    "\n",
    "    # print(cm)\n",
    "\n",
    "    plt.imshow(cm, interpolation='nearest', cmap=cmap)\n",
    "    plt.title(title)\n",
    "    plt.colorbar()\n",
    "    tick_marks = np.arange(len(classes))\n",
    "    plt.xticks(tick_marks, classes, rotation=45)\n",
    "    plt.yticks(tick_marks, classes)\n",
    "\n",
    "    fmt = '.2f' if normalize else 'd'\n",
    "    thresh = cm.max() / 2.\n",
    "    for i, j in itertools.product(range(cm.shape[0]), range(cm.shape[1])):\n",
    "        plt.text(j, i, format(cm[i, j], fmt),\n",
    "                 horizontalalignment=\"center\",\n",
    "                 color=\"white\" if cm[i, j] > thresh else \"black\")\n",
    "\n",
    "    plt.ylabel('True label')\n",
    "    plt.xlabel('Predicted label')\n",
    "    plt.tight_layout()"
   ]
  },
  {
   "cell_type": "code",
   "execution_count": null,
   "id": "12672322",
   "metadata": {},
   "outputs": [],
   "source": [
    "# Confusion matrix\n",
    "cm = confusion_matrix(y_test, y_pred)\n",
    "\n",
    "plt.figure()\n",
    "plot_confusion_matrix(cm, classes=['Legitimate', 'Phishing'], title='Confusion matrix, without normalization')\n",
    "plt.show()"
   ]
  },
  {
   "cell_type": "code",
   "execution_count": null,
   "id": "680a4341",
   "metadata": {},
   "outputs": [],
   "source": [
    "from sklearn.ensemble import GradientBoostingClassifier\n",
    "\n",
    "# Train the model\n",
    "classifier_2 = GradientBoostingClassifier()\n",
    "classifier_2.fit(x_train, y_train)"
   ]
  },
  {
   "cell_type": "code",
   "execution_count": null,
   "id": "f5127238",
   "metadata": {},
   "outputs": [],
   "source": [
    "# Make predictions\n",
    "y_pred_2 = classifier_2.predict(x_test)"
   ]
  },
  {
   "cell_type": "code",
   "execution_count": null,
   "id": "872b7b75",
   "metadata": {},
   "outputs": [],
   "source": [
    "# Evaluate the performance on training data\n",
    "acc_train_2 = accuracy_score(y_train, classifier_2.predict(x_train))\n",
    "f1_train_2 = f1_score(y_train, classifier_2.predict(x_train), average= 'weighted')\n",
    "\n",
    "print(\"Training results\")\n",
    "print(\"Accuracy ->\", acc_train_2)\n",
    "print(\"F1 Score ->\", f1_train_2)"
   ]
  },
  {
   "cell_type": "code",
   "execution_count": null,
   "id": "842eab22",
   "metadata": {},
   "outputs": [],
   "source": [
    "# Evaluate the performance on testing data\n",
    "acc_test_2 = accuracy_score(y_test, y_pred_2)\n",
    "f1_test_2 = f1_score(y_test, y_pred_2, average= 'weighted')\n",
    "\n",
    "print(\"Test set results\")\n",
    "print(\"Accuracy ->\",acc_test_2)\n",
    "print(\"F1 Score ->\",f1_test_2)"
   ]
  },
  {
   "cell_type": "code",
   "execution_count": null,
   "id": "abb20f51",
   "metadata": {},
   "outputs": [],
   "source": [
    "# Confusion matrix\n",
    "cm_2 = confusion_matrix(y_test, y_pred_2)\n",
    "\n",
    "plt.figure()\n",
    "plot_confusion_matrix(cm_2, classes=['Legitimate', 'Phishing'], title='Confusion matrix, without normalization')\n",
    "plt.show()"
   ]
  },
  {
   "cell_type": "code",
   "execution_count": null,
   "id": "e89ea9f2",
   "metadata": {},
   "outputs": [],
   "source": [
    "from xgboost import XGBClassifier\n",
    "\n",
    "# Train the model\n",
    "classifier_1 = XGBClassifier()\n",
    "classifier_1.fit(x_train, y_train)"
   ]
  },
  {
   "cell_type": "code",
   "execution_count": null,
   "id": "4fa009ab",
   "metadata": {},
   "outputs": [],
   "source": [
    "# Make predictions\n",
    "y_pred_1 = classifier_1.predict(x_test)"
   ]
  },
  {
   "cell_type": "code",
   "execution_count": null,
   "id": "82347343",
   "metadata": {},
   "outputs": [],
   "source": [
    "# Evaluate the performance on training data\n",
    "acc_train_1 = accuracy_score(y_train, classifier_1.predict(x_train))\n",
    "f1_train_1 = f1_score(y_train, classifier_1.predict(x_train), average= 'weighted')\n",
    "\n",
    "print(\"Training results\")\n",
    "print(\"Accuracy ->\", acc_train_1)\n",
    "print(\"F1 Score ->\", f1_train_1)"
   ]
  },
  {
   "cell_type": "code",
   "execution_count": null,
   "id": "48900d4e",
   "metadata": {},
   "outputs": [],
   "source": [
    "# Evaluate the performance on testing data\n",
    "acc_test_1 = accuracy_score(y_test, y_pred_1)\n",
    "f1_test_1 = f1_score(y_test, y_pred_1, average= 'weighted')\n",
    "\n",
    "print(\"Test set results\")\n",
    "print(\"Accuracy ->\",acc_test_1)\n",
    "print(\"F1 Score ->\",f1_test_1)"
   ]
  },
  {
   "cell_type": "code",
   "execution_count": null,
   "id": "f5e73254",
   "metadata": {},
   "outputs": [],
   "source": [
    "# Confusion matrix\n",
    "cm_1 = confusion_matrix(y_test, y_pred_1)\n",
    "\n",
    "plt.figure()\n",
    "plot_confusion_matrix(cm_1, classes=['Legitimate', 'Phishing'], title='Confusion matrix, without normalization')\n",
    "plt.show()"
   ]
  },
  {
   "cell_type": "code",
   "execution_count": null,
   "id": "ac8d3935",
   "metadata": {},
   "outputs": [],
   "source": [
    "d = {'Index Title': ['AdaBoost', 'Gradient Boosting', 'XG Boost'], 'Train Acc': [acc_train, acc_train_2, acc_train_1], \n",
    "    'Test Acc': [acc_test, acc_test_2, acc_test_1]}\n",
    "\n",
    "df = pd.DataFrame(d).set_index('Index Title')\n",
    "\n",
    "print(df)\n",
    "\n",
    "fig, ax = plt.subplots(figsize=(7,4))\n",
    "df.plot(kind='barh', legend = True, ax=ax)\n",
    "ax.set_xlabel('Accuracy')\n",
    "ax.set_ylabel('Methods')\n",
    "\n",
    "ax.legend(loc='center left', bbox_to_anchor=(1, 0.5))"
   ]
  }
 ],
 "metadata": {
  "interpreter": {
   "hash": "844ab7212087515a90c6540aedbe430d7e690b41e0b86c80a323b2aee6be6fd9"
  },
  "kernelspec": {
   "display_name": "Python 3.10.4 64-bit",
   "language": "python",
   "name": "python3"
  },
  "language_info": {
   "codemirror_mode": {
    "name": "ipython",
    "version": 3
   },
   "file_extension": ".py",
   "mimetype": "text/x-python",
   "name": "python",
   "nbconvert_exporter": "python",
   "pygments_lexer": "ipython3",
   "version": "3.10.4"
  }
 },
 "nbformat": 4,
 "nbformat_minor": 5
}
